{
 "cells": [
  {
   "cell_type": "code",
   "execution_count": 27,
   "metadata": {},
   "outputs": [],
   "source": [
    "import boto3\n",
    "import pandas as pd\n",
    "from sklearn.svm import SVC\n",
    "from sklearn.model_selection import train_test_split\n",
    "from sklearn.ensemble import RandomForestClassifier\n",
    "import numpy as np\n",
    "import pickle"
   ]
  },
  {
   "cell_type": "code",
   "execution_count": 13,
   "metadata": {},
   "outputs": [],
   "source": [
    "pkl_dir = \"pickle_files\"\n",
    "df = pd.read_csv('dataset/creditcard.csv')\n",
    "df_fe = df.drop(['V8','V13','V15','V20','V22','V23','V24','V25','V26','V27','V28'], axis =1)"
   ]
  },
  {
   "cell_type": "code",
   "execution_count": 15,
   "metadata": {},
   "outputs": [],
   "source": [
    "def undersample(data, multiple):  # multiple denote the normal data = multiple * fraud data\n",
    "    count_fraud_transaction = len(data[data[\"Class\"] == 1])  # fraud by 1\n",
    "    fraud_indices = np.array(data[data.Class == 1].index)\n",
    "    normal_indices = np.array(data[data.Class == 0].index)\n",
    "    normal_indices_undersample = np.array(\n",
    "        np.random.choice(normal_indices, (multiple * count_fraud_transaction), replace=False))\n",
    "    undersample_data = np.concatenate([fraud_indices, normal_indices_undersample])\n",
    "    undersample_data = data.iloc[undersample_data, :]\n",
    "    return undersample_data"
   ]
  },
  {
   "cell_type": "code",
   "execution_count": 20,
   "metadata": {},
   "outputs": [],
   "source": [
    "undersample_data_svm = undersample(df_fe, 8)\n",
    "X_undersample_svm = undersample_data_svm.iloc[:, undersample_data_svm.columns != \"Class\"]\n",
    "y_undersample_svm = undersample_data_svm.iloc[:, undersample_data_svm.columns == \"Class\"]\n",
    "X_train_svm, X_test_svm, y_train_svm, y_test_svm = train_test_split(X_undersample_svm, y_undersample_svm, random_state=0)"
   ]
  },
  {
   "cell_type": "code",
   "execution_count": 33,
   "metadata": {},
   "outputs": [
    {
     "name": "stdout",
     "output_type": "stream",
     "text": [
      "svm_columns pickled!\n",
      "svm_model pickled!\n"
     ]
    }
   ],
   "source": [
    "svm_columns = df_fe.columns.tolist()[:-1]\n",
    "svm_columns_pklfile = pkl_dir + '/svm_columns.pkl'\n",
    "\n",
    "svm_model = SVC(C=1, gamma=0.1)\n",
    "svm_model.fit(X_train_svm, y_train_svm.values.ravel())\n",
    "svm_model_pklfile = pkl_dir + '/svm_model.pkl'\n",
    "\n",
    "with open(svm_columns_pkfile, \"wb\") as fp:  \n",
    "    pickle.dump(svm_columns, fp)\n",
    "print \"svm_columns pickled!\"\n",
    "\n",
    "with open(svm_model_pklfile, \"wb\") as fp:  \n",
    "    pickle.dump(svm_model, fp)\n",
    "print \"svm_model pickled!\""
   ]
  },
  {
   "cell_type": "code",
   "execution_count": 34,
   "metadata": {},
   "outputs": [],
   "source": [
    "undersample_data_rf = undersample(df_fe, 70)\n",
    "X_undersample_rf = undersample_data_rf.iloc[:, undersample_data_rf.columns != \"Class\"]\n",
    "y_undersample_rf = undersample_data_rf.iloc[:, undersample_data_rf.columns == \"Class\"]\n",
    "X_train_rf, X_test_rf, y_train_rf, y_test_rf = train_test_split(X_undersample_rf, y_undersample_rf, random_state=0)"
   ]
  },
  {
   "cell_type": "code",
   "execution_count": 35,
   "metadata": {},
   "outputs": [
    {
     "name": "stdout",
     "output_type": "stream",
     "text": [
      "rf_columns pickled!\n",
      "rf_model pickled!\n"
     ]
    }
   ],
   "source": [
    "rf_columns = df_fe.columns.tolist()[:-1]\n",
    "rf_columns_pklfile = pkl_dir + '/random_forest_columns.pkl'\n",
    "\n",
    "rf_model = RandomForestClassifier(n_estimators=200, max_features=1, max_depth=20, min_samples_split=2, min_samples_leaf=1)\n",
    "rf_model.fit(X_train_rf, y_train_rf.values.ravel())\n",
    "rf_model_pklfile = pkl_dir + '/random_forest_model.pkl'\n",
    "\n",
    "with open(rf_columns_pkfile, \"wb\") as fp:  \n",
    "    pickle.dump(rf_columns, fp)\n",
    "print \"rf_columns pickled!\"\n",
    "\n",
    "with open(rf_model_pklfile, \"wb\") as fp:  \n",
    "    pickle.dump(rf_model, fp)\n",
    "print \"rf_model pickled!\""
   ]
  },
  {
   "cell_type": "code",
   "execution_count": 38,
   "metadata": {},
   "outputs": [
    {
     "name": "stdout",
     "output_type": "stream",
     "text": [
      "Connected to S3!\n",
      "rf_columns uploaded!\n",
      "rf_model uploaded!\n",
      "svm_columns uploaded!\n",
      "svm_model uploaded!\n"
     ]
    }
   ],
   "source": [
    "try:\n",
    "    S3 = boto3.client('s3', region_name='us-east-1')\n",
    "    print \"Connected to S3!\"\n",
    "except:\n",
    "    print \"Fail to connect to S3\"\n",
    "\n",
    "bucket_name = 'info7390-2018spring-team2-final-models'\n",
    "\n",
    "try:\n",
    "    S3.upload_file(rf_columns_pklfile, bucket_name, rf_columns_pklfile.split('/')[1])\n",
    "    print \"rf_columns uploaded!\"\n",
    "    S3.upload_file(rf_model_pklfile, bucket_name, rf_model_pklfile.split('/')[1])\n",
    "    print \"rf_model uploaded!\"\n",
    "    S3.upload_file(svm_columns_pklfile, bucket_name, svm_columns_pklfile.split('/')[1])\n",
    "    print \"svm_columns uploaded!\"\n",
    "    S3.upload_file(svm_model_pklfile, bucket_name, svm_model_pklfile.split('/')[1])\n",
    "    print \"svm_model uploaded!\"\n",
    "except:\n",
    "    print \"Fail to upload file!\""
   ]
  },
  {
   "cell_type": "code",
   "execution_count": null,
   "metadata": {},
   "outputs": [],
   "source": [
    ""
   ]
  }
 ],
 "metadata": {
  "kernelspec": {
   "display_name": "Python 2",
   "language": "python",
   "name": "python2"
  },
  "language_info": {
   "codemirror_mode": {
    "name": "ipython",
    "version": 2.0
   },
   "file_extension": ".py",
   "mimetype": "text/x-python",
   "name": "python",
   "nbconvert_exporter": "python",
   "pygments_lexer": "ipython2",
   "version": "2.7.10"
  }
 },
 "nbformat": 4,
 "nbformat_minor": 0
}