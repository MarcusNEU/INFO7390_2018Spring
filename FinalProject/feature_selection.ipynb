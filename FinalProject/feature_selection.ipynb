{
 "cells": [
  {
   "cell_type": "code",
   "execution_count": 117,
   "metadata": {},
   "outputs": [],
   "source": [
    "import pandas as pd\n",
    "import matplotlib.pyplot as plt\n",
    "import matplotlib.gridspec as gridspec\n",
    "import seaborn as sns\n",
    "import numpy as np\n",
    "from sklearn.model_selection import train_test_split\n",
    "from sklearn.linear_model import LogisticRegression\n",
    "from sklearn.svm import SVC\n",
    "from sklearn.ensemble import RandomForestClassifier\n",
    "from sklearn.ensemble import GradientBoostingClassifier\n",
    "from sklearn.feature_selection import RFE\n",
    "from __future__ import division\n",
    "from sklearn.metrics import confusion_matrix,recall_score,precision_recall_curve,auc,roc_curve,roc_auc_score,classification_report"
   ]
  },
  {
   "cell_type": "code",
   "execution_count": 2,
   "metadata": {},
   "outputs": [],
   "source": [
    "df = pd.read_csv('dataset/creditcard.csv')\n",
    "df_fe = df.drop(['V8','V13','V15','V20','V22','V23','V24','V25','V26','V27','V28'], axis =1)"
   ]
  },
  {
   "cell_type": "code",
   "execution_count": 65,
   "metadata": {},
   "outputs": [],
   "source": [
    "count_normal_transacation = len(df_fe[df_fe[\"Class\"]==0]) # normal transaction are repersented by 0\n",
    "count_fraud_transacation = len(df_fe[df_fe[\"Class\"]==1]) # fraud by 1\n",
    "fraud_indices = np.array(df_fe[df_fe.Class==1].index)\n",
    "normal_indices = np.array(df_fe[df_fe.Class==0].index)\n",
    "\n",
    "#now let us a define a function for make undersample data with different proportion\n",
    "#different proportion means with different proportion of normal classes of data\n",
    "\n",
    "def undersample(df, normal_indices, fraud_indices, multiple): # multiple denote the normal data = multiple * fraud data\n",
    "    normal_indices_undersample = np.array(np.random.choice(normal_indices,(multiple*count_fraud_transacation),replace=False))\n",
    "    undersample_data = np.concatenate([fraud_indices, normal_indices_undersample])\n",
    "    undersample_data = df.iloc[undersample_data,:]\n",
    "    \n",
    "    print \"the normal transacation proportion is :\", len(undersample_data[undersample_data.Class==0])/len(undersample_data)\n",
    "    print \"the fraud transacation proportion is :\", len(undersample_data[undersample_data.Class==1])/len(undersample_data)\n",
    "    print \"total number of record in resampled data is:\",len(undersample_data)\n",
    "    return(undersample_data)"
   ]
  },
  {
   "cell_type": "code",
   "execution_count": 89,
   "metadata": {},
   "outputs": [],
   "source": [
    "def prediction_algorithms(model,features_train,features_test,labels_train,labels_test):\n",
    "    model.fit(features_train,labels_train.values.ravel())\n",
    "    pred = model.predict(features_test)\n",
    "    cm = confusion_matrix(labels_test,pred)\n",
    "    recall = cm[1,1] / (cm[1,1] + cm[1,0])\n",
    "    precision = cm[1,1] / (cm[1,1] + cm[0,1])\n",
    "    print \"the recall for this model is :\", recall\n",
    "    print \"The accuracy is :\", (cm[1,1]+cm[0,0])/(cm[0,0] + cm[0,1] + cm[1,0] + cm[1,1])\n",
    "    loss = (1 - precision) * 88.29 + (1 - recall) * 122.12\n",
    "    fig= plt.figure(figsize=(6,3))# to plot the graph\n",
    "    print \"TP\",cm[1,1] # no of fraud transaction which are predicted fraud\n",
    "    print \"TN\",cm[0,0] # no. of normal transaction which are predited normal\n",
    "    print \"FP\",cm[0,1] # no of normal transaction which are predicted fraud\n",
    "    print \"FN\",cm[1,0] # no of fraud Transaction which are predicted normal\n",
    "    sns.heatmap(cm, cmap=\"coolwarm_r\", annot=True, linewidths=0.5)\n",
    "    plt.title(\"Confusion_matrix\")\n",
    "    plt.xlabel(\"Predicted_class\")\n",
    "    plt.ylabel(\"Real class\")\n",
    "    plt.show()\n",
    "    print \"Classification Report:\" \n",
    "    print(classification_report(labels_test,pred))\n",
    "    print \"The loss is : \", loss"
   ]
  },
  {
   "cell_type": "code",
   "execution_count": 5,
   "metadata": {},
   "outputs": [],
   "source": [
    "X = df_fe.iloc[:, df_fe.columns != \"Class\"]\n",
    "y = df_fe.iloc[:, df_fe.columns == \"Class\"]\n",
    "X_train, X_test, y_train, y_test = train_test_split(X, y, random_state=0)  "
   ]
  },
  {
   "cell_type": "markdown",
   "metadata": {},
   "source": [
    "## Logistic Regression Feature Importance\n",
    "***"
   ]
  },
  {
   "cell_type": "code",
   "execution_count": 96,
   "metadata": {},
   "outputs": [
    {
     "name": "stdout",
     "output_type": "stream",
     "text": [
      "the normal transacation proportion is : 0.992481203008\n",
      "the fraud transacation proportion is : 0.00751879699248\n",
      "total number of record in resampled data is: 65436\n",
      "\n",
      "the model classification for 132 proportion\n"
     ]
    }
   ],
   "source": [
    "undersample_data = undersample(df, normal_indices,fraud_indices, 132)\n",
    "print \"\"\n",
    "print \"the model classification for 132 proportion\"\n",
    "X_undersample = undersample_data.iloc[:, undersample_data.columns != \"Class\"]\n",
    "y_undersample = undersample_data.iloc[:, undersample_data.columns == \"Class\"]\n",
    "X_undersample_train, X_undersample_test, y_undersample_train, y_undersample_test = train_test_split(X_undersample, y_undersample, random_state=0)\n",
    "X = df.iloc[:, df.columns != \"Class\"]\n",
    "y = df.iloc[:, df.columns == \"Class\"]\n",
    "X_train, X_test, y_train, y_test = train_test_split(X, y, random_state=0) \n",
    "lr = LogisticRegression(random_state=0)\n",
    "lr.fit(X_train/np.std(X_train, 0), y_train.values.ravel())\n",
    "lr_feature_importances = [(feature, abs(round(importance, 2))) for feature, importance in zip(X_train.columns, lr.coef_[0])]\n",
    "lr_feature_importances = sorted(lr_feature_importances, key = lambda x: x[1], reverse = True)"
   ]
  },
  {
   "cell_type": "code",
   "execution_count": 98,
   "metadata": {},
   "outputs": [
    {
     "data": {
      "text/plain": [
       "[('V4', 0.89),\n",
       " ('V10', 0.78),\n",
       " ('V14', 0.54),\n",
       " ('V22', 0.41),\n",
       " ('Time', 0.37),\n",
       " ('V20', 0.33),\n",
       " ('V9', 0.32),\n",
       " ('V27', 0.29),\n",
       " ('V21', 0.27),\n",
       " ('V13', 0.25),\n",
       " ('V1', 0.21),\n",
       " ('V8', 0.21),\n",
       " ('Amount', 0.2),\n",
       " ('V6', 0.16),\n",
       " ('V15', 0.16),\n",
       " ('V5', 0.14),\n",
       " ('V7', 0.13),\n",
       " ('V16', 0.12),\n",
       " ('V26', 0.11),\n",
       " ('V25', 0.1),\n",
       " ('V28', 0.08),\n",
       " ('V3', 0.07),\n",
       " ('V12', 0.06),\n",
       " ('V19', 0.06),\n",
       " ('V17', 0.04),\n",
       " ('V23', 0.04),\n",
       " ('V11', 0.03),\n",
       " ('V24', 0.03),\n",
       " ('V2', 0.02),\n",
       " ('V18', 0.01)]"
      ]
     },
     "execution_count": 98,
     "metadata": {},
     "output_type": "execute_result"
    },
    {
     "data": {
      "image/png": "[encoded data removed]",
      "text/plain": [
       "<Figure size 288x720 with 1 Axes>"
      ]
     },
     "metadata": {},
     "output_type": "display_data"
    }
   ],
   "source": [
    "ft_lr = pd.DataFrame(lr_feature_importances)\n",
    "ft_lr.columns = ['feature','importance']\n",
    "ft_lr.set_index(['feature'])\n",
    "ft_lr.iloc[0,:]['importance']\n",
    "ft_lr['importance'] = ft_lr.importance/ft_lr.iloc[0,:]['importance']\n",
    "plt.figure(figsize=(4,10))\n",
    "plt.xlim(0,1)\n",
    "for key,value in zip(range(1,31),ft_lr['importance']):\n",
    "    plt.axhline(y=key, xmin=0, xmax=value, linewidth=2, color = 'k')\n",
    "    plt.plot([value],[key], 'ro')\n",
    "plt.yticks(range(1,31),ft_lr['feature'])\n",
    "plt.xlabel(\"LR Variable Importance\",fontsize=18)\n",
    "plt.gca().invert_yaxis()\n",
    "lr_feature_importances"
   ]
  },
  {
   "cell_type": "markdown",
   "metadata": {},
   "source": [
    "### Try features which have their importances greater than 0.08\n",
    "***"
   ]
  },
  {
   "cell_type": "code",
   "execution_count": 99,
   "metadata": {},
   "outputs": [
    {
     "name": "stdout",
     "output_type": "stream",
     "text": [
      "<class 'pandas.core.frame.DataFrame'>\n",
      "RangeIndex: 284807 entries, 0 to 284806\n",
      "Data columns (total 21 columns):\n",
      "Time      284807 non-null float64\n",
      "V1        284807 non-null float64\n",
      "V4        284807 non-null float64\n",
      "V5        284807 non-null float64\n",
      "V6        284807 non-null float64\n",
      "V7        284807 non-null float64\n",
      "V8        284807 non-null float64\n",
      "V9        284807 non-null float64\n",
      "V10       284807 non-null float64\n",
      "V13       284807 non-null float64\n",
      "V14       284807 non-null float64\n",
      "V15       284807 non-null float64\n",
      "V16       284807 non-null float64\n",
      "V20       284807 non-null float64\n",
      "V21       284807 non-null float64\n",
      "V22       284807 non-null float64\n",
      "V25       284807 non-null float64\n",
      "V26       284807 non-null float64\n",
      "V27       284807 non-null float64\n",
      "Amount    284807 non-null float64\n",
      "Class     284807 non-null int64\n",
      "dtypes: float64(20), int64(1)\n",
      "memory usage: 45.6 MB\n"
     ]
    }
   ],
   "source": [
    "df_lr = df.drop(['V28', 'V3', 'V12', 'V19', 'V17', 'V23', 'V11', 'V24', 'V2', 'V18'], axis=1)\n",
    "df_lr.info()"
   ]
  },
  {
   "cell_type": "code",
   "execution_count": 105,
   "metadata": {},
   "outputs": [
    {
     "name": "stdout",
     "output_type": "stream",
     "text": [
      "the normal transacation proportion is : 0.992481203008\n",
      "the fraud transacation proportion is : 0.00751879699248\n",
      "total number of record in resampled data is: 65436\n",
      "\n",
      "the model classification for 132 proportion\n",
      "the recall for this model is : 0.5416666666666666\n",
      "The accuracy is : 0.9969242437010196\n",
      "TP 65\n",
      "TN 70918\n",
      "FP 164\n",
      "FN 55\n"
     ]
    },
    {
     "data": {
      "image/png": "[encoded data removed]",
      "text/plain": [
       "<Figure size 432x216 with 2 Axes>"
      ]
     },
     "metadata": {},
     "output_type": "display_data"
    },
    {
     "name": "stdout",
     "output_type": "stream",
     "text": [
      "Classification Report:\n",
      "             precision    recall  f1-score   support\n",
      "\n",
      "          0       1.00      1.00      1.00     71082\n",
      "          1       0.28      0.54      0.37       120\n",
      "\n",
      "avg / total       1.00      1.00      1.00     71202\n",
      "\n",
      "The loss is :  119.2011863173217\n",
      "________________________________________________________________________________________________________\n",
      "\n"
     ]
    }
   ],
   "source": [
    "undersample_data = undersample(df_lr, normal_indices,fraud_indices, 132)\n",
    "print \"\"\n",
    "print \"the model classification for 132 proportion\"\n",
    "X_undersample = undersample_data.iloc[:, undersample_data.columns != \"Class\"]\n",
    "y_undersample = undersample_data.iloc[:, undersample_data.columns == \"Class\"]\n",
    "X_undersample_train, X_undersample_test, y_undersample_train, y_undersample_test = train_test_split(X_undersample, y_undersample, random_state=0)\n",
    "X = df_lr.iloc[:, df_lr.columns != \"Class\"]\n",
    "y = df_lr.iloc[:, df_lr.columns == \"Class\"]\n",
    "X_train, X_test, y_train, y_test = train_test_split(X, y, random_state=0) \n",
    "lr = LogisticRegression(random_state=0)\n",
    "prediction_algorithms(lr, X_undersample_train, X_test, y_undersample_train, y_test)\n",
    "print \"________________________________________________________________________________________________________\"\n",
    "print \"\""
   ]
  },
  {
   "cell_type": "markdown",
   "metadata": {},
   "source": [
    "The table shows the optimal results with different features. It is clear that using all the features and a proportion of normal/fraud = 132 gives the best results amoung the 3.\n",
    "\n",
    "However, as can be seen from the interest curve in feature selection and bench mark part, the performance of logistic regression is very unstable when proportion changes. Thus, Logistic Regression is not very recommended here since we cannot decide a optimal proportion due to the unstable performance.\n",
    "\n",
    "| Features          | Precision | Recall | F1   | Accuracy |\n",
    "|-------------------|-----------|--------|------|----------|\n",
    "| 19 selected by fe | 0.66      | 0.72   | 0.69 | 0.99     |\n",
    "| Top 21            | 0.28      | 0.54   | 0.37 | 0.99     |\n",
    "| All*              | 0.71      | 0.74   | 0.73 | 0.99     |\n",
    "\n",
    "***"
   ]
  },
  {
   "cell_type": "markdown",
   "metadata": {},
   "source": [
    "## Random Forest Feature Importance\n",
    "***"
   ]
  },
  {
   "cell_type": "code",
   "execution_count": 64,
   "metadata": {},
   "outputs": [],
   "source": [
    "rf = RandomForestClassifier(n_estimators = 100 , random_state = 0)\n",
    "rf.fit(X_train, y_train.values.ravel())\n",
    "importances = list(rf.feature_importances_)\n",
    "rf_feature_importances = [(feature, round(importance, 2)) for feature, importance in zip(X.columns, importances)]\n",
    "rf_feature_importances = sorted(rf_feature_importances, key = lambda x: x[1], reverse = True)"
   ]
  },
  {
   "cell_type": "code",
   "execution_count": 52,
   "metadata": {},
   "outputs": [
    {
     "data": {
      "text/plain": [
       "[('V17', 0.18),\n",
       " ('V12', 0.16),\n",
       " ('V14', 0.12),\n",
       " ('V11', 0.09),\n",
       " ('V16', 0.07),\n",
       " ('V10', 0.06),\n",
       " ('V9', 0.04),\n",
       " ('V18', 0.04),\n",
       " ('V4', 0.03),\n",
       " ('V7', 0.03),\n",
       " ('V21', 0.03),\n",
       " ('Time', 0.02),\n",
       " ('V1', 0.02),\n",
       " ('V2', 0.02),\n",
       " ('V3', 0.02),\n",
       " ('V5', 0.02),\n",
       " ('V6', 0.02),\n",
       " ('V19', 0.02),\n",
       " ('Amount', 0.02)]"
      ]
     },
     "execution_count": 52,
     "metadata": {},
     "output_type": "execute_result"
    },
    {
     "data": {
      "image/png": "[encoded data removed]",
      "text/plain": [
       "<Figure size 288x720 with 1 Axes>"
      ]
     },
     "metadata": {},
     "output_type": "display_data"
    }
   ],
   "source": [
    "ft_rf = pd.DataFrame(rf_feature_importances)\n",
    "ft_rf.columns = ['feature','importance']\n",
    "ft_rf.set_index(['feature'])\n",
    "ft_rf.iloc[0,:]['importance']\n",
    "ft_rf['importance'] = ft_rf.importance/ft_rf.iloc[0,:]['importance']\n",
    "plt.figure(figsize=(4,10))\n",
    "plt.xlim(0,1)\n",
    "for key,value in zip(range(1,20),ft_rf['importance']):\n",
    "    plt.axhline(y=key, xmin=0, xmax=value, linewidth=2, color = 'k')\n",
    "    plt.plot([value],[key], 'ro')\n",
    "plt.yticks(range(1,20),ft_rf['feature'])\n",
    "plt.xlabel(\"RF Variable Importance\",fontsize=18)\n",
    "plt.gca().invert_yaxis()\n",
    "rf_feature_importances"
   ]
  },
  {
   "cell_type": "markdown",
   "metadata": {},
   "source": [
    "### Try features which have their importances greater than 0.02\n",
    "***"
   ]
  },
  {
   "cell_type": "code",
   "execution_count": 94,
   "metadata": {},
   "outputs": [
    {
     "name": "stdout",
     "output_type": "stream",
     "text": [
      "<class 'pandas.core.frame.DataFrame'>\n",
      "RangeIndex: 284807 entries, 0 to 284806\n",
      "Data columns (total 12 columns):\n",
      "V4       284807 non-null float64\n",
      "V7       284807 non-null float64\n",
      "V9       284807 non-null float64\n",
      "V10      284807 non-null float64\n",
      "V11      284807 non-null float64\n",
      "V12      284807 non-null float64\n",
      "V14      284807 non-null float64\n",
      "V16      284807 non-null float64\n",
      "V17      284807 non-null float64\n",
      "V18      284807 non-null float64\n",
      "V21      284807 non-null float64\n",
      "Class    284807 non-null int64\n",
      "dtypes: float64(11), int64(1)\n",
      "memory usage: 26.1 MB\n"
     ]
    }
   ],
   "source": [
    "df_rf = df_fe.drop(['Time','V1','V2','V3','V5','V6','V19','Amount'], axis =1)\n",
    "df_rf.info()"
   ]
  },
  {
   "cell_type": "code",
   "execution_count": 95,
   "metadata": {},
   "outputs": [
    {
     "name": "stdout",
     "output_type": "stream",
     "text": [
      "the normal transacation proportion is : 0.975609756098\n",
      "the fraud transacation proportion is : 0.0243902439024\n",
      "total number of record in resampled data is: 20172\n",
      "\n",
      "the model classification for 40 proportion\n",
      "the recall for this model is : 0.9833333333333333\n",
      "The accuracy is : 0.9995365298727564\n",
      "TP 118\n",
      "TN 71051\n",
      "FP 31\n",
      "FN 2\n"
     ]
    },
    {
     "data": {
      "image/png": "[encoded data removed]",
      "text/plain": [
       "<Figure size 432x216 with 2 Axes>"
      ]
     },
     "metadata": {},
     "output_type": "display_data"
    },
    {
     "name": "stdout",
     "output_type": "stream",
     "text": [
      "Classification Report:\n",
      "             precision    recall  f1-score   support\n",
      "\n",
      "          0       1.00      1.00      1.00     71082\n",
      "          1       0.79      0.98      0.88       120\n",
      "\n",
      "avg / total       1.00      1.00      1.00     71202\n",
      "\n",
      "The loss is :  20.40439373601791\n",
      "________________________________________________________________________________________________________\n",
      "\n"
     ]
    }
   ],
   "source": [
    "undersample_data = undersample(df_rf, normal_indices,fraud_indices, 40)\n",
    "print \"\"\n",
    "print \"the model classification for 40 proportion\"\n",
    "X_undersample = undersample_data.iloc[:, undersample_data.columns != \"Class\"]\n",
    "y_undersample = undersample_data.iloc[:, undersample_data.columns == \"Class\"]\n",
    "X_undersample_train, X_undersample_test, y_undersample_train, y_undersample_test = train_test_split(X_undersample, y_undersample, random_state=0)\n",
    "X = df_rf.iloc[:, df_rf.columns != \"Class\"]\n",
    "y = df_rf.iloc[:, df_rf.columns == \"Class\"]\n",
    "X_train, X_test, y_train, y_test = train_test_split(X, y, random_state=0) \n",
    "rf = RandomForestClassifier(n_estimators=100, random_state=0)\n",
    "prediction_algorithms(rf, X_undersample_train, X_test, y_undersample_train, y_test)\n",
    "print \"________________________________________________________________________________________________________\"\n",
    "print \"\""
   ]
  },
  {
   "cell_type": "markdown",
   "metadata": {},
   "source": [
    "### Try out top 6 features\n",
    "***"
   ]
  },
  {
   "cell_type": "code",
   "execution_count": 92,
   "metadata": {},
   "outputs": [
    {
     "name": "stdout",
     "output_type": "stream",
     "text": [
      "<class 'pandas.core.frame.DataFrame'>\n",
      "RangeIndex: 284807 entries, 0 to 284806\n",
      "Data columns (total 7 columns):\n",
      "V10      284807 non-null float64\n",
      "V11      284807 non-null float64\n",
      "V12      284807 non-null float64\n",
      "V14      284807 non-null float64\n",
      "V16      284807 non-null float64\n",
      "V17      284807 non-null float64\n",
      "Class    284807 non-null int64\n",
      "dtypes: float64(6), int64(1)\n",
      "memory usage: 15.2 MB\n"
     ]
    }
   ],
   "source": [
    "df_rf1 = df_rf.drop(['V9', 'V18', 'V4', 'V7', 'V21'], axis=1)\n",
    "df_rf1.info()"
   ]
  },
  {
   "cell_type": "code",
   "execution_count": 93,
   "metadata": {},
   "outputs": [
    {
     "name": "stdout",
     "output_type": "stream",
     "text": [
      "the normal transacation proportion is : 0.975609756098\n",
      "the fraud transacation proportion is : 0.0243902439024\n",
      "total number of record in resampled data is: 20172\n",
      "\n",
      "the model classification for 40 proportion\n",
      "the recall for this model is : 0.9833333333333333\n",
      "The accuracy is : 0.9994663071262043\n",
      "TP 118\n",
      "TN 71046\n",
      "FP 36\n",
      "FN 2\n"
     ]
    },
    {
     "data": {
      "image/png": "[encoded data removed]",
      "text/plain": [
       "<Figure size 432x216 with 2 Axes>"
      ]
     },
     "metadata": {},
     "output_type": "display_data"
    },
    {
     "name": "stdout",
     "output_type": "stream",
     "text": [
      "Classification Report:\n",
      "             precision    recall  f1-score   support\n",
      "\n",
      "          0       1.00      1.00      1.00     71082\n",
      "          1       0.77      0.98      0.86       120\n",
      "\n",
      "avg / total       1.00      1.00      1.00     71202\n",
      "\n",
      "The loss is :  22.67455411255412\n",
      "________________________________________________________________________________________________________\n",
      "\n"
     ]
    }
   ],
   "source": [
    "undersample_data = undersample(df_rf1, normal_indices,fraud_indices, 40)\n",
    "print \"\"\n",
    "print \"the model classification for 40 proportion\"\n",
    "X_undersample = undersample_data.iloc[:, undersample_data.columns != \"Class\"]\n",
    "y_undersample = undersample_data.iloc[:, undersample_data.columns == \"Class\"]\n",
    "X_undersample_train, X_undersample_test, y_undersample_train, y_undersample_test = train_test_split(X_undersample, y_undersample, random_state=0)\n",
    "X = df_rf1.iloc[:, df_rf1.columns != \"Class\"]\n",
    "y = df_rf1.iloc[:, df_rf1.columns == \"Class\"]\n",
    "X_train, X_test, y_train, y_test = train_test_split(X, y, random_state=0) \n",
    "rf = RandomForestClassifier(n_estimators=100, random_state=0)\n",
    "prediction_algorithms(rf, X_undersample_train, X_test, y_undersample_train, y_test)\n",
    "print \"________________________________________________________________________________________________________\"\n",
    "print \"\""
   ]
  },
  {
   "cell_type": "markdown",
   "metadata": {},
   "source": [
    "The table below shows the results using different number of features. It seems using the 19 features selected by our feature engineering, top 11 features ranked by feature importances or even all the features give us very similar results while using top 6 features gives bad result. Thus, we will be using 19 features selected after feature engineering in our model selection and the proportion is 40.\n",
    "\n",
    "| Features        | Precision | Recall | F1 Score |  Accuracy  |\n",
    "|-----------------|-----------|--------|----------|------------|\n",
    "| 19 picked by fe*| 0.81      | 0.98   | 0.89     | 0.99       |\n",
    "| Top 11          | 0.79      | 0.98   | 0.88     | 0.99       |\n",
    "| Top 6           | 0.77      | 0.98   | 0.86     | 0.99       |\n",
    "| All features    | 0.81      | 0.97   | 0.88     | 0.99       |\n",
    "***"
   ]
  },
  {
   "cell_type": "markdown",
   "metadata": {},
   "source": [
    "## Gradient Boosting Decision Tree Feature Importance\n",
    "***"
   ]
  },
  {
   "cell_type": "code",
   "execution_count": 63,
   "metadata": {},
   "outputs": [],
   "source": [
    "gbt = GradientBoostingClassifier(random_state = 0)\n",
    "gbt.fit(X_train, y_train.values.ravel())\n",
    "gbt_importances = list(gbt.feature_importances_)\n",
    "gbt_feature_importances = [(feature, round(importance, 2)) for feature, importance in zip(X.columns, gbt_importances)]\n",
    "gbt_feature_importances = sorted(gbt_feature_importances, key = lambda x: x[1], reverse = True)"
   ]
  },
  {
   "cell_type": "code",
   "execution_count": 72,
   "metadata": {},
   "outputs": [
    {
     "data": {
      "text/plain": [
       "[('V11', 0.35),\n",
       " ('V17', 0.35),\n",
       " ('V14', 0.13),\n",
       " ('V10', 0.08),\n",
       " ('V12', 0.04),\n",
       " ('V4', 0.02),\n",
       " ('Time', 0.0),\n",
       " ('V1', 0.0),\n",
       " ('V2', 0.0),\n",
       " ('V3', 0.0),\n",
       " ('V5', 0.0),\n",
       " ('V6', 0.0),\n",
       " ('V7', 0.0),\n",
       " ('V9', 0.0),\n",
       " ('V16', 0.0),\n",
       " ('V18', 0.0),\n",
       " ('V19', 0.0),\n",
       " ('V21', 0.0),\n",
       " ('Amount', 0.0)]"
      ]
     },
     "execution_count": 72,
     "metadata": {},
     "output_type": "execute_result"
    },
    {
     "data": {
      "image/png": "[encoded data removed]",
      "text/plain": [
       "<Figure size 288x720 with 1 Axes>"
      ]
     },
     "metadata": {},
     "output_type": "display_data"
    }
   ],
   "source": [
    "ft_gbt = pd.DataFrame(gbt_feature_importances)\n",
    "ft_gbt.columns = ['feature','importance']\n",
    "ft_gbt.set_index(['feature'])\n",
    "ft_gbt.iloc[0,:]['importance']\n",
    "ft_gbt['importance'] = ft_gbt.importance/ft_gbt.iloc[0,:]['importance']\n",
    "plt.figure(figsize=(4,10))\n",
    "plt.xlim(0,1)\n",
    "for key,value in zip(range(1,20),ft_gbt['importance']):\n",
    "    plt.axhline(y=key, xmin=0, xmax=value, linewidth=2, color = 'k')\n",
    "    plt.plot([value],[key], 'ro')\n",
    "plt.yticks(range(1,20),ft_gbt['feature'])\n",
    "plt.xlabel(\"GBT Variable Importance\",fontsize=18)\n",
    "plt.gca().invert_yaxis()\n",
    "gbt_feature_importances"
   ]
  },
  {
   "cell_type": "code",
   "execution_count": 106,
   "metadata": {},
   "outputs": [
    {
     "name": "stdout",
     "output_type": "stream",
     "text": [
      "<class 'pandas.core.frame.DataFrame'>\n",
      "RangeIndex: 284807 entries, 0 to 284806\n",
      "Data columns (total 7 columns):\n",
      "V11      284807 non-null float64\n",
      "V17      284807 non-null float64\n",
      "V14      284807 non-null float64\n",
      "V10      284807 non-null float64\n",
      "V12      284807 non-null float64\n",
      "V4       284807 non-null float64\n",
      "Class    284807 non-null int64\n",
      "dtypes: float64(6), int64(1)\n",
      "memory usage: 15.2 MB\n"
     ]
    }
   ],
   "source": [
    "df_gbt = df_fe.loc[:, ['V11', 'V17', 'V14', 'V10', 'V12', 'V4', 'Class']]\n",
    "df_gbt.info()"
   ]
  },
  {
   "cell_type": "code",
   "execution_count": 110,
   "metadata": {},
   "outputs": [
    {
     "name": "stdout",
     "output_type": "stream",
     "text": [
      "the normal transacation proportion is : 0.9875\n",
      "the fraud transacation proportion is : 0.0125\n",
      "total number of record in resampled data is: 39360\n",
      "\n",
      "the model classification for 79 proportion\n",
      "the recall for this model is : 0.9416666666666667\n",
      "The accuracy is : 0.9984410550265442\n",
      "TP 113\n",
      "TN 70978\n",
      "FP 104\n",
      "FN 7\n"
     ]
    },
    {
     "data": {
      "image/png": "[encoded data removed]",
      "text/plain": [
       "<Figure size 432x216 with 2 Axes>"
      ]
     },
     "metadata": {},
     "output_type": "display_data"
    },
    {
     "name": "stdout",
     "output_type": "stream",
     "text": [
      "Classification Report:\n",
      "             precision    recall  f1-score   support\n",
      "\n",
      "          0       1.00      1.00      1.00     71082\n",
      "          1       0.52      0.94      0.67       120\n",
      "\n",
      "avg / total       1.00      1.00      1.00     71202\n",
      "\n",
      "The loss is :  49.43776804915515\n",
      "________________________________________________________________________________________________________\n",
      "\n"
     ]
    }
   ],
   "source": [
    "undersample_data = undersample(df_gbt, normal_indices,fraud_indices, 79)\n",
    "print \"\"\n",
    "print \"the model classification for 79 proportion\"\n",
    "X_undersample = undersample_data.iloc[:, undersample_data.columns != \"Class\"]\n",
    "y_undersample = undersample_data.iloc[:, undersample_data.columns == \"Class\"]\n",
    "X_undersample_train, X_undersample_test, y_undersample_train, y_undersample_test = train_test_split(X_undersample, y_undersample, random_state=0)\n",
    "X = df_gbt.iloc[:, df_gbt.columns != \"Class\"]\n",
    "y = df_gbt.iloc[:, df_gbt.columns == \"Class\"]\n",
    "X_train, X_test, y_train, y_test = train_test_split(X, y, random_state=0) \n",
    "gbt = GradientBoostingClassifier(random_state=0)\n",
    "prediction_algorithms(gbt, X_undersample_train, X_test, y_undersample_train, y_test)\n",
    "print \"________________________________________________________________________________________________________\"\n",
    "print \"\""
   ]
  },
  {
   "cell_type": "markdown",
   "metadata": {},
   "source": [
    "## Rank feature importances using all the features\n",
    "***"
   ]
  },
  {
   "cell_type": "code",
   "execution_count": 74,
   "metadata": {},
   "outputs": [],
   "source": [
    "X1 = df.iloc[:, df.columns != \"Class\"]\n",
    "y1 = df.iloc[:, df.columns == \"Class\"]\n",
    "X_train1, X_test1, y_train1, y_test1 = train_test_split(X1, y1, random_state=0)  "
   ]
  },
  {
   "cell_type": "code",
   "execution_count": 20,
   "metadata": {},
   "outputs": [],
   "source": [
    "gbt1 = GradientBoostingClassifier(random_state = 0)\n",
    "gbt1.fit(X_train1, y_train1.values.ravel())\n",
    "importances = list(gbt1.feature_importances_)\n",
    "feature_importances = [(feature, round(importance, 2)) for feature, importance in zip(X1.columns, importances)]\n",
    "feature_importances = sorted(feature_importances, key = lambda x: x[1], reverse = True)"
   ]
  },
  {
   "cell_type": "code",
   "execution_count": 75,
   "metadata": {},
   "outputs": [
    {
     "data": {
      "text/plain": [
       "[('V16', 0.37),\n",
       " ('V11', 0.3),\n",
       " ('V26', 0.09),\n",
       " ('V3', 0.05),\n",
       " ('V14', 0.04),\n",
       " ('V1', 0.02),\n",
       " ('V5', 0.02),\n",
       " ('V10', 0.02),\n",
       " ('V12', 0.02),\n",
       " ('V17', 0.02),\n",
       " ('V18', 0.02),\n",
       " ('V9', 0.01),\n",
       " ('V27', 0.01),\n",
       " ('Time', 0.0),\n",
       " ('V2', 0.0),\n",
       " ('V4', 0.0),\n",
       " ('V6', 0.0),\n",
       " ('V7', 0.0),\n",
       " ('V8', 0.0),\n",
       " ('V13', 0.0),\n",
       " ('V15', 0.0),\n",
       " ('V19', 0.0),\n",
       " ('V20', 0.0),\n",
       " ('V21', 0.0),\n",
       " ('V22', 0.0),\n",
       " ('V23', 0.0),\n",
       " ('V24', 0.0),\n",
       " ('V25', 0.0),\n",
       " ('V28', 0.0),\n",
       " ('Amount', 0.0)]"
      ]
     },
     "execution_count": 75,
     "metadata": {},
     "output_type": "execute_result"
    },
    {
     "data": {
      "image/png": "[encoded data removed]",
      "text/plain": [
       "<Figure size 288x720 with 1 Axes>"
      ]
     },
     "metadata": {},
     "output_type": "display_data"
    }
   ],
   "source": [
    "ft_gbt1 = pd.DataFrame(feature_importances)\n",
    "ft_gbt1.columns = ['feature','importance']\n",
    "ft_gbt1.set_index(['feature'])\n",
    "ft_gbt1.iloc[0,:]['importance']\n",
    "ft_gbt1['importance'] = ft_gbt1.importance/ft_gbt1.iloc[0,:]['importance']\n",
    "plt.figure(figsize=(4,10))\n",
    "plt.xlim(0,1)\n",
    "for key,value in zip(range(1,31),ft_gbt1['importance']):\n",
    "    plt.axhline(y=key, xmin=0, xmax=value, linewidth=2, color = 'k')\n",
    "    plt.plot([value],[key], 'ro')\n",
    "plt.yticks(range(1,31),ft_gbt1['feature'])\n",
    "plt.xlabel(\"GBT Variable Importance (using all the features)\",fontsize=18)\n",
    "plt.gca().invert_yaxis()\n",
    "feature_importances"
   ]
  },
  {
   "cell_type": "markdown",
   "metadata": {},
   "source": [
    "### Top 13 features\n",
    "***"
   ]
  },
  {
   "cell_type": "code",
   "execution_count": 111,
   "metadata": {},
   "outputs": [
    {
     "name": "stdout",
     "output_type": "stream",
     "text": [
      "<class 'pandas.core.frame.DataFrame'>\n",
      "RangeIndex: 284807 entries, 0 to 284806\n",
      "Data columns (total 14 columns):\n",
      "V16      284807 non-null float64\n",
      "V11      284807 non-null float64\n",
      "V26      284807 non-null float64\n",
      "V3       284807 non-null float64\n",
      "V14      284807 non-null float64\n",
      "V1       284807 non-null float64\n",
      "V5       284807 non-null float64\n",
      "V10      284807 non-null float64\n",
      "V12      284807 non-null float64\n",
      "V17      284807 non-null float64\n",
      "V18      284807 non-null float64\n",
      "V9       284807 non-null float64\n",
      "V27      284807 non-null float64\n",
      "Class    284807 non-null int64\n",
      "dtypes: float64(13), int64(1)\n",
      "memory usage: 30.4 MB\n"
     ]
    }
   ],
   "source": [
    "df_gbt1 = df.loc[:, ['V16', 'V11', 'V26', 'V3', 'V14', 'V1', 'V5', 'V10', 'V12', 'V17', 'V18', 'V9', 'V27', 'Class']]\n",
    "df_gbt1.info()"
   ]
  },
  {
   "cell_type": "code",
   "execution_count": 112,
   "metadata": {},
   "outputs": [
    {
     "name": "stdout",
     "output_type": "stream",
     "text": [
      "the normal transacation proportion is : 0.989473684211\n",
      "the fraud transacation proportion is : 0.0105263157895\n",
      "total number of record in resampled data is: 46740\n",
      "\n",
      "the model classification for 94 proportion\n",
      "the recall for this model is : 0.9333333333333333\n",
      "The accuracy is : 0.9983146540827504\n",
      "TP 112\n",
      "TN 70970\n",
      "FP 112\n",
      "FN 8\n"
     ]
    },
    {
     "data": {
      "image/png": "[encoded data removed]",
      "text/plain": [
       "<Figure size 432x216 with 2 Axes>"
      ]
     },
     "metadata": {},
     "output_type": "display_data"
    },
    {
     "name": "stdout",
     "output_type": "stream",
     "text": [
      "Classification Report:\n",
      "             precision    recall  f1-score   support\n",
      "\n",
      "          0       1.00      1.00      1.00     71082\n",
      "          1       0.50      0.93      0.65       120\n",
      "\n",
      "avg / total       1.00      1.00      1.00     71202\n",
      "\n",
      "The loss is :  52.28633333333333\n",
      "________________________________________________________________________________________________________\n",
      "\n"
     ]
    }
   ],
   "source": [
    "undersample_data = undersample(df_gbt1, normal_indices,fraud_indices, 94)\n",
    "print \"\"\n",
    "print \"the model classification for 94 proportion\"\n",
    "X_undersample = undersample_data.iloc[:, undersample_data.columns != \"Class\"]\n",
    "y_undersample = undersample_data.iloc[:, undersample_data.columns == \"Class\"]\n",
    "X_undersample_train, X_undersample_test, y_undersample_train, y_undersample_test = train_test_split(X_undersample, y_undersample, random_state=0)\n",
    "X = df_gbt1.iloc[:, df_gbt1.columns != \"Class\"]\n",
    "y = df_gbt1.iloc[:, df_gbt1.columns == \"Class\"]\n",
    "X_train, X_test, y_train, y_test = train_test_split(X, y, random_state=0) \n",
    "gbt = GradientBoostingClassifier(random_state=0)\n",
    "prediction_algorithms(gbt, X_undersample_train, X_test, y_undersample_train, y_test)\n",
    "print \"________________________________________________________________________________________________________\"\n",
    "print \"\""
   ]
  },
  {
   "cell_type": "markdown",
   "metadata": {},
   "source": [
    "### Top 5 features\n",
    "***"
   ]
  },
  {
   "cell_type": "code",
   "execution_count": 113,
   "metadata": {},
   "outputs": [
    {
     "name": "stdout",
     "output_type": "stream",
     "text": [
      "<class 'pandas.core.frame.DataFrame'>\n",
      "RangeIndex: 284807 entries, 0 to 284806\n",
      "Data columns (total 6 columns):\n",
      "V16      284807 non-null float64\n",
      "V11      284807 non-null float64\n",
      "V26      284807 non-null float64\n",
      "V3       284807 non-null float64\n",
      "V14      284807 non-null float64\n",
      "Class    284807 non-null int64\n",
      "dtypes: float64(5), int64(1)\n",
      "memory usage: 13.0 MB\n"
     ]
    }
   ],
   "source": [
    "df_gbt2 = df.loc[:, ['V16', 'V11', 'V26', 'V3', 'V14', 'Class']]\n",
    "df_gbt2.info()"
   ]
  },
  {
   "cell_type": "code",
   "execution_count": 114,
   "metadata": {},
   "outputs": [
    {
     "name": "stdout",
     "output_type": "stream",
     "text": [
      "the normal transacation proportion is : 0.989473684211\n",
      "the fraud transacation proportion is : 0.0105263157895\n",
      "total number of record in resampled data is: 46740\n",
      "\n",
      "the model classification for 94 proportion\n",
      "the recall for this model is : 0.8833333333333333\n",
      "The accuracy is : 0.9985253223224066\n",
      "TP 106\n",
      "TN 70991\n",
      "FP 91\n",
      "FN 14\n"
     ]
    },
    {
     "data": {
      "image/png": "[encoded data removed]",
      "text/plain": [
       "<Figure size 432x216 with 2 Axes>"
      ]
     },
     "metadata": {},
     "output_type": "display_data"
    },
    {
     "name": "stdout",
     "output_type": "stream",
     "text": [
      "Classification Report:\n",
      "             precision    recall  f1-score   support\n",
      "\n",
      "          0       1.00      1.00      1.00     71082\n",
      "          1       0.54      0.88      0.67       120\n",
      "\n",
      "avg / total       1.00      1.00      1.00     71202\n",
      "\n",
      "The loss is :  55.03103891708969\n",
      "________________________________________________________________________________________________________\n",
      "\n"
     ]
    }
   ],
   "source": [
    "undersample_data = undersample(df_gbt2, normal_indices,fraud_indices, 94)\n",
    "print \"\"\n",
    "print \"the model classification for 94 proportion\"\n",
    "X_undersample = undersample_data.iloc[:, undersample_data.columns != \"Class\"]\n",
    "y_undersample = undersample_data.iloc[:, undersample_data.columns == \"Class\"]\n",
    "X_undersample_train, X_undersample_test, y_undersample_train, y_undersample_test = train_test_split(X_undersample, y_undersample, random_state=0)\n",
    "X = df_gbt2.iloc[:, df_gbt2.columns != \"Class\"]\n",
    "y = df_gbt2.iloc[:, df_gbt2.columns == \"Class\"]\n",
    "X_train, X_test, y_train, y_test = train_test_split(X, y, random_state=0) \n",
    "gbt = GradientBoostingClassifier(random_state=0)\n",
    "prediction_algorithms(gbt, X_undersample_train, X_test, y_undersample_train, y_test)\n",
    "print \"________________________________________________________________________________________________________\"\n",
    "print \"\""
   ]
  },
  {
   "cell_type": "markdown",
   "metadata": {},
   "source": [
    "As the table shows. The optimal result is given by the top 6 features after feature engineering when proportion equals to 79 as well as using all the features when proportion equals to 94. Other ones perform a little bit worse than these two but still acceptable.\n",
    "\n",
    "to simplify the calculation later, we choose the top 6 features after feature engineering as our optimal feature selection for GBT.\n",
    "\n",
    "| Features        | Precision | Recall | F1 Score |  Accuracy  |\n",
    "|-----------------|-----------|--------|----------|------------|\n",
    "| 19 picked by fe | 0.54      | 0.91   | 0.68     | 0.99       |\n",
    "| Top 6 after fe* | 0.52      | 0.94   | 0.67     | 0.99       |\n",
    "| All features    | 0.52      | 0.94   | 0.67     | 0.99       |\n",
    "| Top 13          | 0.50      | 0.93   | 0.65     | 0.99       |\n",
    "| Top 5           | 0.54      | 0.88   | 0.67     | 0.99       |"
   ]
  },
  {
   "cell_type": "code",
   "execution_count": null,
   "metadata": {},
   "outputs": [],
   "source": []
  }
 ],
 "metadata": {
  "kernelspec": {
   "display_name": "Python 2",
   "language": "python",
   "name": "python2"
  },
  "language_info": {
   "codemirror_mode": {
    "name": "ipython",
    "version": 2
   },
   "file_extension": ".py",
   "mimetype": "text/x-python",
   "name": "python",
   "nbconvert_exporter": "python",
   "pygments_lexer": "ipython2",
   "version": "2.7.10"
  }
 },
 "nbformat": 4,
 "nbformat_minor": 2
}
